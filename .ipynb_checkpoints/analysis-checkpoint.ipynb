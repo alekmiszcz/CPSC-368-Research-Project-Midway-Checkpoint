{
 "cells": [
  {
   "cell_type": "code",
   "execution_count": 1,
   "id": "73813370-aed2-4e49-9260-6dad4cb088ac",
   "metadata": {},
   "outputs": [],
   "source": [
    "import pandas as pd\n",
    "import seaborn as sns\n",
    "import matplotlib.pyplot as plt\n",
    "import altair as alt"
   ]
  },
  {
   "cell_type": "markdown",
   "id": "acdc5fb9-0bb4-469b-82cb-7ac8fef5f2e4",
   "metadata": {},
   "source": [
    "# Data Cleaning"
   ]
  },
  {
   "cell_type": "code",
   "execution_count": 2,
   "id": "a73ac495-ff69-406e-a21d-7cb745bfcf63",
   "metadata": {},
   "outputs": [
    {
     "data": {
      "text/html": [
       "<div>\n",
       "<style scoped>\n",
       "    .dataframe tbody tr th:only-of-type {\n",
       "        vertical-align: middle;\n",
       "    }\n",
       "\n",
       "    .dataframe tbody tr th {\n",
       "        vertical-align: top;\n",
       "    }\n",
       "\n",
       "    .dataframe thead th {\n",
       "        text-align: right;\n",
       "    }\n",
       "</style>\n",
       "<table border=\"1\" class=\"dataframe\">\n",
       "  <thead>\n",
       "    <tr style=\"text-align: right;\">\n",
       "      <th></th>\n",
       "      <th>Country</th>\n",
       "      <th>Age_Group</th>\n",
       "      <th>Cancer_Type</th>\n",
       "      <th>Risk_Factors</th>\n",
       "      <th>Incidence</th>\n",
       "      <th>Mortality</th>\n",
       "      <th>Prevalence</th>\n",
       "      <th>Urban_Population</th>\n",
       "      <th>Health_Expenditure_%GDP</th>\n",
       "      <th>Tobacco_Use_%</th>\n",
       "      <th>...</th>\n",
       "      <th>Air_Quality_Index</th>\n",
       "      <th>UV_Radiation</th>\n",
       "      <th>Family_History_%</th>\n",
       "      <th>Genetic_Mutation_%</th>\n",
       "      <th>Treatment_Coverage_%</th>\n",
       "      <th>GDP_per_Capita</th>\n",
       "      <th>Life_Expectancy</th>\n",
       "      <th>Health_Infrastructure_Index</th>\n",
       "      <th>Education_Index</th>\n",
       "      <th>Population_Density</th>\n",
       "    </tr>\n",
       "  </thead>\n",
       "  <tbody>\n",
       "    <tr>\n",
       "      <th>0</th>\n",
       "      <td>Turkey</td>\n",
       "      <td>15-24</td>\n",
       "      <td>Lung</td>\n",
       "      <td>Obesity</td>\n",
       "      <td>44</td>\n",
       "      <td>457</td>\n",
       "      <td>955</td>\n",
       "      <td>32.906758</td>\n",
       "      <td>11.834005</td>\n",
       "      <td>12.578421</td>\n",
       "      <td>...</td>\n",
       "      <td>96</td>\n",
       "      <td>2.877395</td>\n",
       "      <td>44.300862</td>\n",
       "      <td>6.924822</td>\n",
       "      <td>97.210912</td>\n",
       "      <td>29779</td>\n",
       "      <td>82.366306</td>\n",
       "      <td>2.324139</td>\n",
       "      <td>0.875452</td>\n",
       "      <td>736.609006</td>\n",
       "    </tr>\n",
       "    <tr>\n",
       "      <th>1</th>\n",
       "      <td>Canada</td>\n",
       "      <td>0-14</td>\n",
       "      <td>Prostate</td>\n",
       "      <td>Genetic</td>\n",
       "      <td>643</td>\n",
       "      <td>278</td>\n",
       "      <td>150</td>\n",
       "      <td>40.207750</td>\n",
       "      <td>6.412955</td>\n",
       "      <td>25.120870</td>\n",
       "      <td>...</td>\n",
       "      <td>69</td>\n",
       "      <td>9.851073</td>\n",
       "      <td>17.727832</td>\n",
       "      <td>7.480867</td>\n",
       "      <td>98.658890</td>\n",
       "      <td>27570</td>\n",
       "      <td>56.791854</td>\n",
       "      <td>2.875398</td>\n",
       "      <td>0.730587</td>\n",
       "      <td>827.101915</td>\n",
       "    </tr>\n",
       "    <tr>\n",
       "      <th>2</th>\n",
       "      <td>China</td>\n",
       "      <td>15-24</td>\n",
       "      <td>Breast</td>\n",
       "      <td>Pollution</td>\n",
       "      <td>565</td>\n",
       "      <td>161</td>\n",
       "      <td>1428</td>\n",
       "      <td>62.225708</td>\n",
       "      <td>7.066045</td>\n",
       "      <td>33.662102</td>\n",
       "      <td>...</td>\n",
       "      <td>10</td>\n",
       "      <td>3.156956</td>\n",
       "      <td>45.250388</td>\n",
       "      <td>17.109909</td>\n",
       "      <td>80.144866</td>\n",
       "      <td>50479</td>\n",
       "      <td>62.069261</td>\n",
       "      <td>1.502259</td>\n",
       "      <td>0.757807</td>\n",
       "      <td>139.180394</td>\n",
       "    </tr>\n",
       "    <tr>\n",
       "      <th>3</th>\n",
       "      <td>India</td>\n",
       "      <td>15-24</td>\n",
       "      <td>Leukemia</td>\n",
       "      <td>Inactivity</td>\n",
       "      <td>509</td>\n",
       "      <td>117</td>\n",
       "      <td>1996</td>\n",
       "      <td>84.119599</td>\n",
       "      <td>12.102488</td>\n",
       "      <td>29.599358</td>\n",
       "      <td>...</td>\n",
       "      <td>179</td>\n",
       "      <td>6.364374</td>\n",
       "      <td>18.079635</td>\n",
       "      <td>5.280028</td>\n",
       "      <td>84.765434</td>\n",
       "      <td>67829</td>\n",
       "      <td>60.673865</td>\n",
       "      <td>8.945143</td>\n",
       "      <td>0.805388</td>\n",
       "      <td>776.916328</td>\n",
       "    </tr>\n",
       "    <tr>\n",
       "      <th>4</th>\n",
       "      <td>Nigeria</td>\n",
       "      <td>15-24</td>\n",
       "      <td>Prostate</td>\n",
       "      <td>Pollution</td>\n",
       "      <td>288</td>\n",
       "      <td>170</td>\n",
       "      <td>383</td>\n",
       "      <td>37.403640</td>\n",
       "      <td>14.487316</td>\n",
       "      <td>15.348235</td>\n",
       "      <td>...</td>\n",
       "      <td>151</td>\n",
       "      <td>9.038135</td>\n",
       "      <td>20.292538</td>\n",
       "      <td>7.763366</td>\n",
       "      <td>81.781825</td>\n",
       "      <td>77986</td>\n",
       "      <td>66.400764</td>\n",
       "      <td>7.332599</td>\n",
       "      <td>0.748743</td>\n",
       "      <td>494.974242</td>\n",
       "    </tr>\n",
       "  </tbody>\n",
       "</table>\n",
       "<p>5 rows × 23 columns</p>\n",
       "</div>"
      ],
      "text/plain": [
       "   Country Age_Group Cancer_Type Risk_Factors  Incidence  Mortality  \\\n",
       "0   Turkey     15-24        Lung      Obesity         44        457   \n",
       "1   Canada      0-14    Prostate      Genetic        643        278   \n",
       "2    China     15-24      Breast    Pollution        565        161   \n",
       "3    India     15-24    Leukemia   Inactivity        509        117   \n",
       "4  Nigeria     15-24    Prostate    Pollution        288        170   \n",
       "\n",
       "   Prevalence  Urban_Population  Health_Expenditure_%GDP  Tobacco_Use_%  ...  \\\n",
       "0         955         32.906758                11.834005      12.578421  ...   \n",
       "1         150         40.207750                 6.412955      25.120870  ...   \n",
       "2        1428         62.225708                 7.066045      33.662102  ...   \n",
       "3        1996         84.119599                12.102488      29.599358  ...   \n",
       "4         383         37.403640                14.487316      15.348235  ...   \n",
       "\n",
       "   Air_Quality_Index  UV_Radiation  Family_History_%  Genetic_Mutation_%  \\\n",
       "0                 96      2.877395         44.300862            6.924822   \n",
       "1                 69      9.851073         17.727832            7.480867   \n",
       "2                 10      3.156956         45.250388           17.109909   \n",
       "3                179      6.364374         18.079635            5.280028   \n",
       "4                151      9.038135         20.292538            7.763366   \n",
       "\n",
       "   Treatment_Coverage_%  GDP_per_Capita  Life_Expectancy  \\\n",
       "0             97.210912           29779        82.366306   \n",
       "1             98.658890           27570        56.791854   \n",
       "2             80.144866           50479        62.069261   \n",
       "3             84.765434           67829        60.673865   \n",
       "4             81.781825           77986        66.400764   \n",
       "\n",
       "   Health_Infrastructure_Index  Education_Index  Population_Density  \n",
       "0                     2.324139         0.875452          736.609006  \n",
       "1                     2.875398         0.730587          827.101915  \n",
       "2                     1.502259         0.757807          139.180394  \n",
       "3                     8.945143         0.805388          776.916328  \n",
       "4                     7.332599         0.748743          494.974242  \n",
       "\n",
       "[5 rows x 23 columns]"
      ]
     },
     "execution_count": 2,
     "metadata": {},
     "output_type": "execute_result"
    }
   ],
   "source": [
    "path = 'data/raw/global_cancer_predictions.csv'\n",
    "cancer_predictions_data = pd.read_csv(path, nrows=160000)\n",
    "cancer_predictions_data.head()"
   ]
  },
  {
   "cell_type": "code",
   "execution_count": 3,
   "id": "30168da8-306c-40cb-a992-f5366306b283",
   "metadata": {},
   "outputs": [
    {
     "data": {
      "text/plain": [
       "(160000, 23)"
      ]
     },
     "execution_count": 3,
     "metadata": {},
     "output_type": "execute_result"
    }
   ],
   "source": [
    "cancer_predictions_data.shape"
   ]
  },
  {
   "cell_type": "code",
   "execution_count": 4,
   "id": "418e6e3b-4973-41d0-9c4f-a770aef85d71",
   "metadata": {},
   "outputs": [],
   "source": [
    "cancer_predictions_data = cancer_predictions_data.dropna()\n",
    "\n",
    "countries_of_interest = ['United States', 'India']\n",
    "cancer_predictions_data = cancer_predictions_data[cancer_predictions_data['Country'].isin(countries_of_interest)]"
   ]
  },
  {
   "cell_type": "code",
   "execution_count": 5,
   "id": "d345db01-651c-463b-a09a-1911973f744b",
   "metadata": {},
   "outputs": [
    {
     "data": {
      "text/plain": [
       "(648, 23)"
      ]
     },
     "execution_count": 5,
     "metadata": {},
     "output_type": "execute_result"
    }
   ],
   "source": [
    "target_cancer_type = 'Breast'\n",
    "cancer_predictions_data = cancer_predictions_data[cancer_predictions_data['Cancer_Type'] == target_cancer_type]\n",
    "cancer_predictions_data.shape"
   ]
  },
  {
   "cell_type": "code",
   "execution_count": 6,
   "id": "7780a6ff-0073-496f-bfd3-82a845864375",
   "metadata": {},
   "outputs": [
    {
     "name": "stdout",
     "output_type": "stream",
     "text": [
      "['0-14' '65+' '25-54' '55-64' '15-24']\n"
     ]
    }
   ],
   "source": [
    "print(cancer_predictions_data['Age_Group'].unique())"
   ]
  },
  {
   "cell_type": "code",
   "execution_count": 7,
   "id": "285dc6ff-9009-4e61-8da5-b741b040853b",
   "metadata": {},
   "outputs": [
    {
     "data": {
      "text/plain": [
       "(112, 23)"
      ]
     },
     "execution_count": 7,
     "metadata": {},
     "output_type": "execute_result"
    }
   ],
   "source": [
    "age_mapping = {\n",
    "    '25-54': '35-50',\n",
    "}\n",
    "\n",
    "cancer_predictions_data['Age_Group'] = cancer_predictions_data['Age_Group'].replace(age_mapping)\n",
    "\n",
    "\n",
    "cancer_predictions_data = cancer_predictions_data[cancer_predictions_data['Age_Group'] == '35-50']\n",
    "\n",
    "cancer_predictions_data.shape"
   ]
  },
  {
   "cell_type": "code",
   "execution_count": 8,
   "id": "171e9850-a4fa-4854-b98f-3cc096e7c210",
   "metadata": {},
   "outputs": [],
   "source": [
    "useful_columns = [\n",
    "    'Country',\n",
    "    'Age_Group',\n",
    "    'Cancer_Type',\n",
    "    'Tobacco_Use_%',\n",
    "    'Alcohol_Consumption_Liters',\n",
    "    'Obesity_%',\n",
    "    'Incidence',\n",
    "    'Mortality'\n",
    "]\n",
    "cancer_predictions_data = cancer_predictions_data[useful_columns]"
   ]
  },
  {
   "cell_type": "code",
   "execution_count": 9,
   "id": "7716bce4-15e5-4618-8498-93540686a8d9",
   "metadata": {},
   "outputs": [
    {
     "data": {
      "text/html": [
       "<div>\n",
       "<style scoped>\n",
       "    .dataframe tbody tr th:only-of-type {\n",
       "        vertical-align: middle;\n",
       "    }\n",
       "\n",
       "    .dataframe tbody tr th {\n",
       "        vertical-align: top;\n",
       "    }\n",
       "\n",
       "    .dataframe thead th {\n",
       "        text-align: right;\n",
       "    }\n",
       "</style>\n",
       "<table border=\"1\" class=\"dataframe\">\n",
       "  <thead>\n",
       "    <tr style=\"text-align: right;\">\n",
       "      <th></th>\n",
       "      <th>Country</th>\n",
       "      <th>Age_Group</th>\n",
       "      <th>Cancer_Type</th>\n",
       "      <th>Tobacco_Use_%</th>\n",
       "      <th>Alcohol_Consumption_Liters</th>\n",
       "      <th>Obesity_%</th>\n",
       "      <th>Incidence</th>\n",
       "      <th>Mortality</th>\n",
       "    </tr>\n",
       "  </thead>\n",
       "  <tbody>\n",
       "    <tr>\n",
       "      <th>1186</th>\n",
       "      <td>India</td>\n",
       "      <td>35-50</td>\n",
       "      <td>Breast</td>\n",
       "      <td>18.00</td>\n",
       "      <td>6.19</td>\n",
       "      <td>27.88</td>\n",
       "      <td>930</td>\n",
       "      <td>148</td>\n",
       "    </tr>\n",
       "    <tr>\n",
       "      <th>4901</th>\n",
       "      <td>United States</td>\n",
       "      <td>35-50</td>\n",
       "      <td>Breast</td>\n",
       "      <td>21.46</td>\n",
       "      <td>13.03</td>\n",
       "      <td>29.10</td>\n",
       "      <td>734</td>\n",
       "      <td>335</td>\n",
       "    </tr>\n",
       "    <tr>\n",
       "      <th>6544</th>\n",
       "      <td>India</td>\n",
       "      <td>35-50</td>\n",
       "      <td>Breast</td>\n",
       "      <td>14.74</td>\n",
       "      <td>14.16</td>\n",
       "      <td>25.00</td>\n",
       "      <td>707</td>\n",
       "      <td>321</td>\n",
       "    </tr>\n",
       "    <tr>\n",
       "      <th>8293</th>\n",
       "      <td>India</td>\n",
       "      <td>35-50</td>\n",
       "      <td>Breast</td>\n",
       "      <td>10.05</td>\n",
       "      <td>5.57</td>\n",
       "      <td>38.36</td>\n",
       "      <td>812</td>\n",
       "      <td>355</td>\n",
       "    </tr>\n",
       "    <tr>\n",
       "      <th>9336</th>\n",
       "      <td>India</td>\n",
       "      <td>35-50</td>\n",
       "      <td>Breast</td>\n",
       "      <td>37.33</td>\n",
       "      <td>4.91</td>\n",
       "      <td>34.80</td>\n",
       "      <td>790</td>\n",
       "      <td>351</td>\n",
       "    </tr>\n",
       "  </tbody>\n",
       "</table>\n",
       "</div>"
      ],
      "text/plain": [
       "            Country Age_Group Cancer_Type  Tobacco_Use_%  \\\n",
       "1186          India     35-50      Breast          18.00   \n",
       "4901  United States     35-50      Breast          21.46   \n",
       "6544          India     35-50      Breast          14.74   \n",
       "8293          India     35-50      Breast          10.05   \n",
       "9336          India     35-50      Breast          37.33   \n",
       "\n",
       "      Alcohol_Consumption_Liters  Obesity_%  Incidence  Mortality  \n",
       "1186                        6.19      27.88        930        148  \n",
       "4901                       13.03      29.10        734        335  \n",
       "6544                       14.16      25.00        707        321  \n",
       "8293                        5.57      38.36        812        355  \n",
       "9336                        4.91      34.80        790        351  "
      ]
     },
     "execution_count": 9,
     "metadata": {},
     "output_type": "execute_result"
    }
   ],
   "source": [
    "cancer_predictions_data['Tobacco_Use_%'] = cancer_predictions_data['Tobacco_Use_%'].round(2)\n",
    "cancer_predictions_data['Alcohol_Consumption_Liters'] = cancer_predictions_data['Alcohol_Consumption_Liters'].round(2)\n",
    "cancer_predictions_data['Obesity_%'] = cancer_predictions_data['Obesity_%'].round(2)\n",
    "cancer_predictions_data.head()"
   ]
  },
  {
   "cell_type": "code",
   "execution_count": 10,
   "id": "0c957931-1967-410e-a4ef-f960d6556144",
   "metadata": {},
   "outputs": [],
   "source": [
    "# Cleaned Cancer Predictions Dataset for q2 merge\n",
    "\n",
    "cancer_predictions_data.to_csv(\"data/processed/cleaned_cancer_predictions.csv\")"
   ]
  },
  {
   "cell_type": "code",
   "execution_count": 11,
   "id": "c7c682aa-bb55-4cab-9a53-9651707a0356",
   "metadata": {},
   "outputs": [
    {
     "name": "stdout",
     "output_type": "stream",
     "text": [
      "(1920, 16)\n"
     ]
    },
    {
     "data": {
      "text/html": [
       "<div>\n",
       "<style scoped>\n",
       "    .dataframe tbody tr th:only-of-type {\n",
       "        vertical-align: middle;\n",
       "    }\n",
       "\n",
       "    .dataframe tbody tr th {\n",
       "        vertical-align: top;\n",
       "    }\n",
       "\n",
       "    .dataframe thead th {\n",
       "        text-align: right;\n",
       "    }\n",
       "</style>\n",
       "<table border=\"1\" class=\"dataframe\">\n",
       "  <thead>\n",
       "    <tr style=\"text-align: right;\">\n",
       "      <th></th>\n",
       "      <th>measure_id</th>\n",
       "      <th>measure_name</th>\n",
       "      <th>location_id</th>\n",
       "      <th>location_name</th>\n",
       "      <th>sex_id</th>\n",
       "      <th>sex_name</th>\n",
       "      <th>age_id</th>\n",
       "      <th>age_name</th>\n",
       "      <th>cause_id</th>\n",
       "      <th>cause_name</th>\n",
       "      <th>metric_id</th>\n",
       "      <th>metric_name</th>\n",
       "      <th>year</th>\n",
       "      <th>val</th>\n",
       "      <th>upper</th>\n",
       "      <th>lower</th>\n",
       "    </tr>\n",
       "  </thead>\n",
       "  <tbody>\n",
       "    <tr>\n",
       "      <th>0</th>\n",
       "      <td>1</td>\n",
       "      <td>Deaths</td>\n",
       "      <td>163</td>\n",
       "      <td>India</td>\n",
       "      <td>1</td>\n",
       "      <td>Male</td>\n",
       "      <td>12</td>\n",
       "      <td>35-39 years</td>\n",
       "      <td>1008</td>\n",
       "      <td>Eye cancer</td>\n",
       "      <td>1</td>\n",
       "      <td>Number</td>\n",
       "      <td>2013</td>\n",
       "      <td>5.001693</td>\n",
       "      <td>7.944542</td>\n",
       "      <td>2.083948</td>\n",
       "    </tr>\n",
       "    <tr>\n",
       "      <th>1</th>\n",
       "      <td>1</td>\n",
       "      <td>Deaths</td>\n",
       "      <td>163</td>\n",
       "      <td>India</td>\n",
       "      <td>2</td>\n",
       "      <td>Female</td>\n",
       "      <td>12</td>\n",
       "      <td>35-39 years</td>\n",
       "      <td>1008</td>\n",
       "      <td>Eye cancer</td>\n",
       "      <td>1</td>\n",
       "      <td>Number</td>\n",
       "      <td>2013</td>\n",
       "      <td>2.650550</td>\n",
       "      <td>3.728422</td>\n",
       "      <td>1.726170</td>\n",
       "    </tr>\n",
       "    <tr>\n",
       "      <th>2</th>\n",
       "      <td>1</td>\n",
       "      <td>Deaths</td>\n",
       "      <td>163</td>\n",
       "      <td>India</td>\n",
       "      <td>1</td>\n",
       "      <td>Male</td>\n",
       "      <td>13</td>\n",
       "      <td>40-44 years</td>\n",
       "      <td>1008</td>\n",
       "      <td>Eye cancer</td>\n",
       "      <td>1</td>\n",
       "      <td>Number</td>\n",
       "      <td>2013</td>\n",
       "      <td>11.998288</td>\n",
       "      <td>17.989977</td>\n",
       "      <td>5.318562</td>\n",
       "    </tr>\n",
       "    <tr>\n",
       "      <th>3</th>\n",
       "      <td>1</td>\n",
       "      <td>Deaths</td>\n",
       "      <td>163</td>\n",
       "      <td>India</td>\n",
       "      <td>2</td>\n",
       "      <td>Female</td>\n",
       "      <td>13</td>\n",
       "      <td>40-44 years</td>\n",
       "      <td>1008</td>\n",
       "      <td>Eye cancer</td>\n",
       "      <td>1</td>\n",
       "      <td>Number</td>\n",
       "      <td>2013</td>\n",
       "      <td>5.514582</td>\n",
       "      <td>7.885183</td>\n",
       "      <td>3.522732</td>\n",
       "    </tr>\n",
       "    <tr>\n",
       "      <th>4</th>\n",
       "      <td>1</td>\n",
       "      <td>Deaths</td>\n",
       "      <td>163</td>\n",
       "      <td>India</td>\n",
       "      <td>1</td>\n",
       "      <td>Male</td>\n",
       "      <td>14</td>\n",
       "      <td>45-49 years</td>\n",
       "      <td>1008</td>\n",
       "      <td>Eye cancer</td>\n",
       "      <td>1</td>\n",
       "      <td>Number</td>\n",
       "      <td>2013</td>\n",
       "      <td>13.498675</td>\n",
       "      <td>19.729645</td>\n",
       "      <td>5.836252</td>\n",
       "    </tr>\n",
       "  </tbody>\n",
       "</table>\n",
       "</div>"
      ],
      "text/plain": [
       "   measure_id measure_name  location_id location_name  sex_id sex_name  \\\n",
       "0           1       Deaths          163         India       1     Male   \n",
       "1           1       Deaths          163         India       2   Female   \n",
       "2           1       Deaths          163         India       1     Male   \n",
       "3           1       Deaths          163         India       2   Female   \n",
       "4           1       Deaths          163         India       1     Male   \n",
       "\n",
       "   age_id     age_name  cause_id  cause_name  metric_id metric_name  year  \\\n",
       "0      12  35-39 years      1008  Eye cancer          1      Number  2013   \n",
       "1      12  35-39 years      1008  Eye cancer          1      Number  2013   \n",
       "2      13  40-44 years      1008  Eye cancer          1      Number  2013   \n",
       "3      13  40-44 years      1008  Eye cancer          1      Number  2013   \n",
       "4      14  45-49 years      1008  Eye cancer          1      Number  2013   \n",
       "\n",
       "         val      upper     lower  \n",
       "0   5.001693   7.944542  2.083948  \n",
       "1   2.650550   3.728422  1.726170  \n",
       "2  11.998288  17.989977  5.318562  \n",
       "3   5.514582   7.885183  3.522732  \n",
       "4  13.498675  19.729645  5.836252  "
      ]
     },
     "execution_count": 11,
     "metadata": {},
     "output_type": "execute_result"
    }
   ],
   "source": [
    "path = 'data/raw/gbd_data.csv'\n",
    "gbd_data = pd.read_csv(path)\n",
    "print(gbd_data.shape)\n",
    "gbd_data.head()"
   ]
  },
  {
   "cell_type": "code",
   "execution_count": 12,
   "id": "834c64e7-3279-4e3e-b9e5-c5d1f06109d5",
   "metadata": {},
   "outputs": [
    {
     "name": "stdout",
     "output_type": "stream",
     "text": [
      "['Eye cancer' 'Liver cancer' 'Breast cancer'\n",
      " 'Brain and central nervous system cancer']\n",
      "['India' 'United States of America']\n"
     ]
    }
   ],
   "source": [
    "print(gbd_data['cause_name'].unique())\n",
    "print(gbd_data['location_name'].unique())"
   ]
  },
  {
   "cell_type": "code",
   "execution_count": 13,
   "id": "f0ea8d14-3dad-4148-abe7-61cad18a0df1",
   "metadata": {},
   "outputs": [
    {
     "data": {
      "text/plain": [
       "(480, 16)"
      ]
     },
     "execution_count": 13,
     "metadata": {},
     "output_type": "execute_result"
    }
   ],
   "source": [
    "gbd_data = gbd_data.dropna()\n",
    "target_cancer_type = 'Breast cancer'\n",
    "gbd_data = gbd_data[gbd_data['cause_name'] == target_cancer_type]\n",
    "gbd_data.shape"
   ]
  },
  {
   "cell_type": "code",
   "execution_count": 14,
   "id": "048a26ed-7073-4cf9-a802-8ebaf597d4f5",
   "metadata": {},
   "outputs": [
    {
     "name": "stdout",
     "output_type": "stream",
     "text": [
      "['35-39 years' '40-44 years' '45-49 years' 'All ages']\n"
     ]
    }
   ],
   "source": [
    "print(gbd_data['age_name'].unique())"
   ]
  },
  {
   "cell_type": "code",
   "execution_count": 15,
   "id": "92a9178e-9cd6-4fb3-917a-649673d12479",
   "metadata": {},
   "outputs": [
    {
     "data": {
      "text/plain": [
       "(480, 16)"
      ]
     },
     "execution_count": 15,
     "metadata": {},
     "output_type": "execute_result"
    }
   ],
   "source": [
    "age_mapping = {\n",
    "    '35-39 years': '35-50',\n",
    "    '40-44 years': '35-50',\n",
    "    '45-49 years': '35-50',\n",
    "    'All ages': '35-50'\n",
    "}\n",
    "gbd_data['age_name'] = gbd_data['age_name'].replace(age_mapping)\n",
    "\n",
    "\n",
    "gbd_data = gbd_data[gbd_data['age_name'] == '35-50']\n",
    "\n",
    "gbd_data.shape"
   ]
  },
  {
   "cell_type": "code",
   "execution_count": 16,
   "id": "c910cf1e-2f9d-4648-bbad-b4a57761bc91",
   "metadata": {},
   "outputs": [],
   "source": [
    "useful_columns = [\n",
    "    'location_name',\n",
    "    'age_name',\n",
    "    'year',\n",
    "    'val',\n",
    "    'cause_name'\n",
    "]\n",
    "gbd_data = gbd_data[useful_columns]\n",
    "\n",
    "\n",
    "gbd_data.rename(columns={\n",
    "    'location_name':'Country',\n",
    "    'age_name':'Age_Group',\n",
    "    'cause_name':'Cancer_Type'\n",
    "}, inplace = True)\n",
    "\n",
    "gbd_data['Country'] = gbd_data['Country'].replace({\n",
    "    'United States of America':'United States'\n",
    "})\n",
    "gbd_data['Cancer_Type'] = gbd_data['Cancer_Type'].replace({\n",
    "    'Breast cancer':'Breast'\n",
    "})\n",
    "   \n",
    "gbd_data['val'] = gbd_data['val'].round(2)"
   ]
  },
  {
   "cell_type": "code",
   "execution_count": 17,
   "id": "86ca1fab-a43d-4e66-9d8a-5738b2809f81",
   "metadata": {},
   "outputs": [
    {
     "data": {
      "text/html": [
       "<div>\n",
       "<style scoped>\n",
       "    .dataframe tbody tr th:only-of-type {\n",
       "        vertical-align: middle;\n",
       "    }\n",
       "\n",
       "    .dataframe tbody tr th {\n",
       "        vertical-align: top;\n",
       "    }\n",
       "\n",
       "    .dataframe thead th {\n",
       "        text-align: right;\n",
       "    }\n",
       "</style>\n",
       "<table border=\"1\" class=\"dataframe\">\n",
       "  <thead>\n",
       "    <tr style=\"text-align: right;\">\n",
       "      <th></th>\n",
       "      <th>Country</th>\n",
       "      <th>Age_Group</th>\n",
       "      <th>year</th>\n",
       "      <th>val</th>\n",
       "      <th>Cancer_Type</th>\n",
       "    </tr>\n",
       "  </thead>\n",
       "  <tbody>\n",
       "    <tr>\n",
       "      <th>16</th>\n",
       "      <td>India</td>\n",
       "      <td>35-50</td>\n",
       "      <td>2013</td>\n",
       "      <td>36.67</td>\n",
       "      <td>Breast</td>\n",
       "    </tr>\n",
       "    <tr>\n",
       "      <th>17</th>\n",
       "      <td>India</td>\n",
       "      <td>35-50</td>\n",
       "      <td>2013</td>\n",
       "      <td>3437.10</td>\n",
       "      <td>Breast</td>\n",
       "    </tr>\n",
       "    <tr>\n",
       "      <th>18</th>\n",
       "      <td>India</td>\n",
       "      <td>35-50</td>\n",
       "      <td>2013</td>\n",
       "      <td>58.76</td>\n",
       "      <td>Breast</td>\n",
       "    </tr>\n",
       "    <tr>\n",
       "      <th>19</th>\n",
       "      <td>India</td>\n",
       "      <td>35-50</td>\n",
       "      <td>2013</td>\n",
       "      <td>4962.90</td>\n",
       "      <td>Breast</td>\n",
       "    </tr>\n",
       "    <tr>\n",
       "      <th>20</th>\n",
       "      <td>India</td>\n",
       "      <td>35-50</td>\n",
       "      <td>2013</td>\n",
       "      <td>77.46</td>\n",
       "      <td>Breast</td>\n",
       "    </tr>\n",
       "  </tbody>\n",
       "</table>\n",
       "</div>"
      ],
      "text/plain": [
       "   Country Age_Group  year      val Cancer_Type\n",
       "16   India     35-50  2013    36.67      Breast\n",
       "17   India     35-50  2013  3437.10      Breast\n",
       "18   India     35-50  2013    58.76      Breast\n",
       "19   India     35-50  2013  4962.90      Breast\n",
       "20   India     35-50  2013    77.46      Breast"
      ]
     },
     "execution_count": 17,
     "metadata": {},
     "output_type": "execute_result"
    }
   ],
   "source": [
    "gbd_data.head()"
   ]
  },
  {
   "cell_type": "code",
   "execution_count": 18,
   "id": "8283d7ce-6258-4aa9-84ac-b7ba1c006ecc",
   "metadata": {},
   "outputs": [],
   "source": [
    "# BGD Dataset for Question 1 (From 2012 - 2021)\n",
    "\n",
    "gbd_data.to_csv(\"data/processed/cleaned_gbd_q1.csv\")"
   ]
  },
  {
   "cell_type": "code",
   "execution_count": 19,
   "id": "b26776fe-3ddf-4621-8f8e-025ef0b8b71e",
   "metadata": {},
   "outputs": [],
   "source": [
    "# GBD Dataset for Question 2 Merge (2020,2021)\n",
    "gbd_data_q2 = gbd_data[gbd_data['year'].isin([2020, 2021])]\n",
    "\n",
    "gbd_data_q2.to_csv(\"data/processed/cleaned_gbd_q2.csv\")"
   ]
  },
  {
   "cell_type": "markdown",
   "id": "742be1be-d188-4c16-80c1-ea5c9acfdc94",
   "metadata": {},
   "source": [
    "# EDA"
   ]
  },
  {
   "cell_type": "code",
   "execution_count": 20,
   "id": "58546a19-c6ae-4e49-a6f7-3e7a16fc9508",
   "metadata": {},
   "outputs": [],
   "source": [
    "clean_cancer_predictions = pd.read_csv('data/processed/cleaned_cancer_predictions.csv')"
   ]
  },
  {
   "cell_type": "code",
   "execution_count": 28,
   "id": "77bb8c28-fbc9-40a3-9660-65dad5440467",
   "metadata": {},
   "outputs": [
    {
     "data": {
      "image/png": "[encoded data removed]",
      "text/plain": [
       "<Figure size 800x500 with 1 Axes>"
      ]
     },
     "metadata": {},
     "output_type": "display_data"
    }
   ],
   "source": [
    "plt.figure(figsize=(8, 5))\n",
    "sns.regplot(x=\"Tobacco_Use_%\", y=\"Incidence\", data=cancer_predictions_data, scatter_kws={'alpha':0.5})\n",
    "plt.title(\"Relationship between Tobacco Use % and Cancer Incidence\")\n",
    "plt.xlabel(\"Obesity Percentage\")\n",
    "plt.ylabel(\"Cancer Incidence\")\n",
    "plt.show()"
   ]
  },
  {
   "cell_type": "code",
   "execution_count": 29,
   "id": "71160673-3e80-4483-baba-0d19d34b359f",
   "metadata": {},
   "outputs": [
    {
     "data": {
      "image/png": "[encoded data removed]",
      "text/plain": [
       "<Figure size 800x500 with 1 Axes>"
      ]
     },
     "metadata": {},
     "output_type": "display_data"
    }
   ],
   "source": [
    "plt.figure(figsize=(8, 5))\n",
    "sns.regplot(x=\"Alcohol_Consumption_Liters\", y=\"Incidence\", data=cancer_predictions_data, scatter_kws={'alpha':0.5})\n",
    "plt.title(\"Relationship between Alcohol Consumption and Cancer Incidence\")\n",
    "plt.xlabel(\"Obesity Percentage\")\n",
    "plt.ylabel(\"Cancer Incidence\")\n",
    "plt.show()"
   ]
  },
  {
   "cell_type": "code",
   "execution_count": 30,
   "id": "d488a059-e5d3-4869-889b-ab727b47eaac",
   "metadata": {},
   "outputs": [
    {
     "data": {
      "image/png": "[encoded data removed]",
      "text/plain": [
       "<Figure size 800x500 with 1 Axes>"
      ]
     },
     "metadata": {},
     "output_type": "display_data"
    }
   ],
   "source": [
    "plt.figure(figsize=(8, 5))\n",
    "sns.regplot(x=\"Obesity_%\", y=\"Incidence\", data=cancer_predictions_data, scatter_kws={'alpha':0.5})\n",
    "plt.title(\"Relationship between Obesity and Cancer Incidence\")\n",
    "plt.xlabel(\"Obesity Percentage\")\n",
    "plt.ylabel(\"Cancer Incidence\")\n",
    "plt.show()"
   ]
  }
 ],
 "metadata": {
  "kernelspec": {
   "display_name": "Python [conda env:base] *",
   "language": "python",
   "name": "conda-base-py"
  },
  "language_info": {
   "codemirror_mode": {
    "name": "ipython",
    "version": 3
   },
   "file_extension": ".py",
   "mimetype": "text/x-python",
   "name": "python",
   "nbconvert_exporter": "python",
   "pygments_lexer": "ipython3",
   "version": "3.11.5"
  }
 },
 "nbformat": 4,
 "nbformat_minor": 5
}
